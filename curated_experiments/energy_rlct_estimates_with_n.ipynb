{
 "cells": [
  {
   "cell_type": "code",
   "execution_count": 1,
   "id": "f05630f7",
   "metadata": {},
   "outputs": [],
   "source": [
    "import jax\n",
    "import jax.numpy as jnp\n",
    "import jax.tree_util as jtree\n",
    "import numpy as np\n",
    "import scipy\n",
    "\n",
    "import optax\n",
    "import functools\n",
    "\n",
    "import haiku as hk\n",
    "import numpyro\n",
    "import numpyro.distributions as dist\n",
    "import matplotlib.pyplot as plt\n",
    "import os\n",
    "rngseed = 42\n",
    "rngkeyseq = hk.PRNGSequence(jax.random.PRNGKey(rngseed))"
   ]
  },
  {
   "cell_type": "code",
   "execution_count": 2,
   "id": "05e736fd",
   "metadata": {},
   "outputs": [],
   "source": [
    "def loss_fn(params, x, y):\n",
    "    y_pred = forward.apply(params, None, x)\n",
    "    return jnp.mean(optax.l2_loss(y_pred, y))\n",
    "\n",
    "def log_prior(params):\n",
    "    param_array, _ = jtree.tree_flatten(params)\n",
    "    result = 0.0\n",
    "    for param in param_array:\n",
    "        result += dist.Normal(loc=prior_mean, scale=prior_std).log_prob(param).sum()\n",
    "    return result\n",
    "\n",
    "def log_likelihood(params, x, y, sigma=1.0):\n",
    "    y_hat = forward.apply(params, None, x)\n",
    "    ydist = dist.Normal(y_hat, sigma)\n",
    "    return ydist.log_prob(y).sum()\n",
    "\n",
    "def log_posterior(params, x, y, itemp=1.0):\n",
    "    return itemp * log_likelihood(params, x, y) + log_prior(params)\n",
    "\n",
    "\n",
    "def numpyro_model(X, Y, shapes, treedef, itemp=1.0, sigma=0.1, prior_mean=0.0, prior_std=1.0):\n",
    "    param_dict = normal_prior(shapes, treedef, prior_mean=prior_mean, prior_std=prior_std)\n",
    "    y_hat = forward.apply(param_dict, None, X)\n",
    "    with numpyro.plate(\"data\", X.shape[0]):\n",
    "        numpyro.sample(\"Y\", dist.Normal(y_hat, sigma / jnp.sqrt(itemp)).to_event(1), obs=Y)\n",
    "    return\n",
    "\n",
    "def normal_prior(shapes, treedef, prior_mean=0.0, prior_std=1.0):\n",
    "    result = []\n",
    "    for i, shape in enumerate(shapes):\n",
    "        result.append(numpyro.sample(str(i), dist.Normal(loc=prior_mean, scale=prior_std), sample_shape=shape))\n",
    "    return treedef.unflatten(result)\n",
    "\n",
    "\n",
    "def normal_localising_prior(params_center, std):\n",
    "    result = []\n",
    "    param_flat, treedef = jtree.tree_flatten(params_center)\n",
    "    for i, p in enumerate(param_flat):\n",
    "        result.append(numpyro.sample(str(i), dist.Normal(loc=p, scale=std)))\n",
    "    return treedef.unflatten(result)\n",
    "\n",
    "\n",
    "def expected_nll(param_list, X, Y, sigma):\n",
    "    nlls = []\n",
    "    for param in param_list:\n",
    "        nlls.append(-log_likelihood(param, X, Y, sigma=sigma))\n",
    "    return np.mean(nlls)"
   ]
  },
  {
   "cell_type": "code",
   "execution_count": 3,
   "id": "4833f2f3",
   "metadata": {},
   "outputs": [
    {
     "name": "stdout",
     "output_type": "stream",
     "text": [
      "CPU times: user 1e+03 ns, sys: 1 µs, total: 2 µs\n",
      "Wall time: 3.1 µs\n",
      "{'mlp/~/linear_0': {'w': Array([[0.1 , 0.2 , 0.01]], dtype=float32)}, 'mlp/~/linear_1': {'w': Array([[ 0.02],\n",
      "       [-0.1 ],\n",
      "       [ 0.5 ]], dtype=float32)}}\n",
      "itemps=[0.14559612 0.17421657 0.20283702 0.23145746 0.2600779  0.28869835]\n"
     ]
    },
    {
     "name": "stderr",
     "output_type": "stream",
     "text": [
      "/var/folders/fz/r7njsjl97v705mmmwpjrd6g80000gn/T/ipykernel_74711/671135828.py:46: UserWarning: There are not enough devices to run parallel chains: expected 4 but got 1. Chains will be drawn sequentially. If you are running MCMC in CPU, consider using `numpyro.set_host_device_count(4)` at the beginning of your program. You can double-check how many devices are available in your system using `jax.local_device_count()`.\n",
      "  mcmc = numpyro.infer.MCMC(\n",
      "sample: 100%|███████████████████████████████████████████| 2500/2500 [00:01<00:00, 1516.75it/s, 63 steps of size 2.93e-02. acc. prob=0.87]\n",
      "sample: 100%|██████████████████████████████████████████| 2500/2500 [00:01<00:00, 1591.57it/s, 127 steps of size 3.29e-02. acc. prob=0.89]\n",
      "sample: 100%|███████████████████████████████████████████| 2500/2500 [00:01<00:00, 1687.21it/s, 63 steps of size 3.67e-02. acc. prob=0.79]\n",
      "sample: 100%|██████████████████████████████████████████| 2500/2500 [00:01<00:00, 1485.66it/s, 127 steps of size 2.56e-02. acc. prob=0.88]\n"
     ]
    },
    {
     "name": "stdout",
     "output_type": "stream",
     "text": [
      "Finished 0 temp=6.868. Expected NLL=-78.722\n"
     ]
    },
    {
     "name": "stderr",
     "output_type": "stream",
     "text": [
      "sample: 100%|██████████████████████████████████████████| 2500/2500 [00:01<00:00, 1533.12it/s, 127 steps of size 2.78e-02. acc. prob=0.89]\n",
      "sample: 100%|██████████████████████████████████████████| 2500/2500 [00:01<00:00, 1544.96it/s, 127 steps of size 3.26e-02. acc. prob=0.86]\n",
      "sample: 100%|██████████████████████████████████████████| 2500/2500 [00:01<00:00, 1426.87it/s, 127 steps of size 2.52e-02. acc. prob=0.91]\n",
      "sample: 100%|██████████████████████████████████████████| 2500/2500 [00:01<00:00, 1414.49it/s, 127 steps of size 2.45e-02. acc. prob=0.92]\n"
     ]
    },
    {
     "name": "stdout",
     "output_type": "stream",
     "text": [
      "Finished 1 temp=5.740. Expected NLL=-79.261\n",
      "est. RLCT=0.477, energy=-0.820, r2=1.000\n"
     ]
    },
    {
     "name": "stderr",
     "output_type": "stream",
     "text": [
      "sample: 100%|███████████████████████████████████████████| 2500/2500 [00:01<00:00, 1585.24it/s, 27 steps of size 3.16e-02. acc. prob=0.84]\n",
      "sample: 100%|██████████████████████████████████████████| 2500/2500 [00:01<00:00, 1430.87it/s, 255 steps of size 2.60e-02. acc. prob=0.90]\n",
      "sample: 100%|██████████████████████████████████████████| 2500/2500 [00:01<00:00, 1461.50it/s, 127 steps of size 2.45e-02. acc. prob=0.88]\n",
      "sample: 100%|██████████████████████████████████████████| 2500/2500 [00:01<00:00, 1449.30it/s, 121 steps of size 2.52e-02. acc. prob=0.89]\n"
     ]
    },
    {
     "name": "stdout",
     "output_type": "stream",
     "text": [
      "Finished 2 temp=4.930. Expected NLL=-80.049\n",
      "est. RLCT=0.672, energy=-0.833, r2=0.959\n"
     ]
    },
    {
     "name": "stderr",
     "output_type": "stream",
     "text": [
      "sample: 100%|██████████████████████████████████████████| 2500/2500 [00:01<00:00, 1342.63it/s, 127 steps of size 1.82e-02. acc. prob=0.93]\n",
      "sample: 100%|██████████████████████████████████████████| 2500/2500 [00:02<00:00, 1240.81it/s, 255 steps of size 1.68e-02. acc. prob=0.96]\n",
      "sample: 100%|███████████████████████████████████████████| 2500/2500 [00:01<00:00, 1408.99it/s, 19 steps of size 2.50e-02. acc. prob=0.90]\n",
      "sample: 100%|██████████████████████████████████████████| 2500/2500 [00:01<00:00, 1446.03it/s, 127 steps of size 2.55e-02. acc. prob=0.88]\n"
     ]
    },
    {
     "name": "stdout",
     "output_type": "stream",
     "text": [
      "Finished 3 temp=4.320. Expected NLL=-80.537\n",
      "est. RLCT=0.724, energy=-0.836, r2=0.976\n"
     ]
    },
    {
     "name": "stderr",
     "output_type": "stream",
     "text": [
      "sample: 100%|██████████████████████████████████████████| 2500/2500 [00:01<00:00, 1463.53it/s, 127 steps of size 2.70e-02. acc. prob=0.85]\n",
      "sample: 100%|███████████████████████████████████████████| 2500/2500 [00:01<00:00, 1383.35it/s, 91 steps of size 2.12e-02. acc. prob=0.92]\n",
      "sample: 100%|██████████████████████████████████████████| 2500/2500 [00:01<00:00, 1325.48it/s, 255 steps of size 1.94e-02. acc. prob=0.92]\n",
      "sample: 100%|██████████████████████████████████████████| 2500/2500 [00:01<00:00, 1380.77it/s, 127 steps of size 2.09e-02. acc. prob=0.90]\n"
     ]
    },
    {
     "name": "stdout",
     "output_type": "stream",
     "text": [
      "Finished 4 temp=3.845. Expected NLL=-80.680\n",
      "est. RLCT=0.694, energy=-0.834, r2=0.980\n"
     ]
    },
    {
     "name": "stderr",
     "output_type": "stream",
     "text": [
      "sample: 100%|██████████████████████████████████████████| 2500/2500 [00:01<00:00, 1381.00it/s, 255 steps of size 2.31e-02. acc. prob=0.89]\n",
      "sample: 100%|███████████████████████████████████████████| 2500/2500 [00:01<00:00, 1469.60it/s, 63 steps of size 2.86e-02. acc. prob=0.83]\n",
      "sample: 100%|███████████████████████████████████████████| 2500/2500 [00:01<00:00, 1586.07it/s, 63 steps of size 2.88e-02. acc. prob=0.79]\n",
      "sample: 100%|███████████████████████████████████████████| 2500/2500 [00:01<00:00, 1720.70it/s, 63 steps of size 2.75e-02. acc. prob=0.53]\n"
     ]
    },
    {
     "name": "stdout",
     "output_type": "stream",
     "text": [
      "Finished 5 temp=3.464. Expected NLL=-81.136\n",
      "est. RLCT=0.715, energy=-0.835, r2=0.984\n",
      "Finished (n=100): RLCT est=0.715, energy=-0.835\n",
      "itemps=[0.11526922 0.13352601 0.1517828  0.17003958 0.18829636 0.20655315]\n"
     ]
    },
    {
     "name": "stderr",
     "output_type": "stream",
     "text": [
      "sample: 100%|███████████████████████████████████████████| 2500/2500 [00:05<00:00, 419.04it/s, 255 steps of size 1.66e-02. acc. prob=0.91]\n",
      "sample: 100%|███████████████████████████████████████████| 2500/2500 [00:04<00:00, 514.10it/s, 127 steps of size 2.10e-02. acc. prob=0.83]\n",
      "sample: 100%|███████████████████████████████████████████| 2500/2500 [00:06<00:00, 403.92it/s, 191 steps of size 1.53e-02. acc. prob=0.91]\n",
      "sample: 100%|███████████████████████████████████████████| 2500/2500 [00:05<00:00, 485.28it/s, 111 steps of size 2.03e-02. acc. prob=0.82]\n"
     ]
    },
    {
     "name": "stdout",
     "output_type": "stream",
     "text": [
      "Finished 0 temp=8.675. Expected NLL=-458.494\n"
     ]
    },
    {
     "name": "stderr",
     "output_type": "stream",
     "text": [
      "sample: 100%|███████████████████████████████████████████| 2500/2500 [00:06<00:00, 391.86it/s, 255 steps of size 1.55e-02. acc. prob=0.89]\n",
      "sample: 100%|████████████████████████████████████████████| 2500/2500 [00:06<00:00, 375.91it/s, 71 steps of size 1.45e-02. acc. prob=0.91]\n",
      "sample: 100%|███████████████████████████████████████████| 2500/2500 [00:05<00:00, 451.78it/s, 127 steps of size 1.72e-02. acc. prob=0.85]\n",
      "sample: 100%|███████████████████████████████████████████| 2500/2500 [00:05<00:00, 466.35it/s, 255 steps of size 1.90e-02. acc. prob=0.81]\n"
     ]
    },
    {
     "name": "stdout",
     "output_type": "stream",
     "text": [
      "Finished 1 temp=7.489. Expected NLL=-459.338\n",
      "est. RLCT=0.711, energy=-0.929, r2=1.000\n"
     ]
    },
    {
     "name": "stderr",
     "output_type": "stream",
     "text": [
      "sample: 100%|███████████████████████████████████████████| 2500/2500 [00:05<00:00, 439.00it/s, 127 steps of size 1.64e-02. acc. prob=0.86]\n",
      "sample: 100%|███████████████████████████████████████████| 2500/2500 [00:06<00:00, 402.79it/s, 127 steps of size 1.38e-02. acc. prob=0.86]\n",
      "sample: 100%|███████████████████████████████████████████| 2500/2500 [00:06<00:00, 409.40it/s, 383 steps of size 1.43e-02. acc. prob=0.82]\n",
      "sample: 100%|████████████████████████████████████████████| 2500/2500 [00:06<00:00, 392.84it/s, 55 steps of size 1.46e-02. acc. prob=0.90]\n"
     ]
    },
    {
     "name": "stdout",
     "output_type": "stream",
     "text": [
      "Finished 2 temp=6.588. Expected NLL=-460.500\n",
      "est. RLCT=0.948, energy=-0.933, r2=0.971\n"
     ]
    },
    {
     "name": "stderr",
     "output_type": "stream",
     "text": [
      "sample: 100%|███████████████████████████████████████████| 2500/2500 [00:06<00:00, 366.26it/s, 255 steps of size 1.30e-02. acc. prob=0.90]\n",
      "sample: 100%|███████████████████████████████████████████| 2500/2500 [00:05<00:00, 479.26it/s, 127 steps of size 1.72e-02. acc. prob=0.84]\n",
      "sample: 100%|███████████████████████████████████████████| 2500/2500 [00:07<00:00, 341.44it/s, 127 steps of size 1.27e-02. acc. prob=0.91]\n",
      "sample: 100%|███████████████████████████████████████████| 2500/2500 [00:05<00:00, 451.64it/s, 255 steps of size 1.72e-02. acc. prob=0.83]\n"
     ]
    },
    {
     "name": "stdout",
     "output_type": "stream",
     "text": [
      "Finished 3 temp=5.881. Expected NLL=-460.999\n",
      "est. RLCT=0.931, energy=-0.933, r2=0.985\n"
     ]
    },
    {
     "name": "stderr",
     "output_type": "stream",
     "text": [
      "sample: 100%|███████████████████████████████████████████| 2500/2500 [00:06<00:00, 405.73it/s, 319 steps of size 1.76e-02. acc. prob=0.86]\n",
      "sample: 100%|███████████████████████████████████████████| 2500/2500 [00:07<00:00, 330.66it/s, 287 steps of size 1.14e-02. acc. prob=0.91]\n",
      "sample: 100%|███████████████████████████████████████████| 2500/2500 [00:06<00:00, 397.75it/s, 127 steps of size 1.40e-02. acc. prob=0.86]\n",
      "sample: 100%|███████████████████████████████████████████| 2500/2500 [00:05<00:00, 419.41it/s, 255 steps of size 1.58e-02. acc. prob=0.87]\n"
     ]
    },
    {
     "name": "stdout",
     "output_type": "stream",
     "text": [
      "Finished 4 temp=5.311. Expected NLL=-461.445\n",
      "est. RLCT=0.908, energy=-0.933, r2=0.989\n"
     ]
    },
    {
     "name": "stderr",
     "output_type": "stream",
     "text": [
      "sample: 100%|███████████████████████████████████████████| 2500/2500 [00:07<00:00, 319.15it/s, 255 steps of size 1.21e-02. acc. prob=0.89]\n",
      "sample: 100%|███████████████████████████████████████████| 2500/2500 [00:07<00:00, 353.15it/s, 255 steps of size 1.35e-02. acc. prob=0.87]\n",
      "sample: 100%|███████████████████████████████████████████| 2500/2500 [00:06<00:00, 364.37it/s, 255 steps of size 1.30e-02. acc. prob=0.87]\n",
      "sample: 100%|███████████████████████████████████████████| 2500/2500 [00:06<00:00, 407.96it/s, 511 steps of size 1.52e-02. acc. prob=0.77]\n"
     ]
    },
    {
     "name": "stdout",
     "output_type": "stream",
     "text": [
      "Finished 5 temp=4.841. Expected NLL=-461.597\n",
      "est. RLCT=0.857, energy=-0.932, r2=0.983\n",
      "Finished (n=500): RLCT est=0.857, energy=-0.932\n"
     ]
    }
   ],
   "source": [
    "%time \n",
    "\n",
    "w_0 = [\n",
    "    jnp.array([[0.1, 0.2, 0.01]]), \n",
    "    jnp.array([[0.02, -0.1, 0.5]]).T\n",
    "]\n",
    "input_dim, num_hidden_nodes = w_0[0].shape\n",
    "output_dim = w_0[1].shape[1]\n",
    "activation_fn = jax.nn.tanh\n",
    "\n",
    "@hk.transform\n",
    "def forward(x):\n",
    "    mlp = hk.nets.MLP(\n",
    "        [num_hidden_nodes, output_dim], # WARNING: there are global variables \n",
    "        activation=activation_fn, \n",
    "        w_init=w_initialiser,\n",
    "        with_bias=False\n",
    "    )\n",
    "    return mlp(x)\n",
    "\n",
    "\n",
    "sigma = 0.1\n",
    "prior_std = 1.0\n",
    "prior_mean = 0.0\n",
    "w_initialiser = hk.initializers.RandomNormal(stddev=prior_std, mean=prior_mean)\n",
    "num_itemps = 6\n",
    "\n",
    "X = jax.random.uniform(\n",
    "    key=next(rngkeyseq), \n",
    "    shape=(3, input_dim), \n",
    "    minval=-2, \n",
    "    maxval=2\n",
    ")\n",
    "true_param = forward.init(next(rngkeyseq), X)\n",
    "treedef = jtree.tree_structure(true_param)\n",
    "true_param = treedef.unflatten(w_0)\n",
    "true_param_flat, treedef = jtree.tree_flatten(true_param)\n",
    "shapes = [p.shape for p in true_param_flat]\n",
    "print(true_param)\n",
    "\n",
    "num_warmup = 500\n",
    "num_posterior_samples = 2000\n",
    "num_chains = 4\n",
    "thinning = 4\n",
    "kernel = numpyro.infer.NUTS(numpyro_model)\n",
    "mcmc = numpyro.infer.MCMC(\n",
    "    kernel,\n",
    "    num_warmup=num_warmup,\n",
    "    num_samples=num_posterior_samples,\n",
    "    num_chains=num_chains,\n",
    "    thinning=thinning, \n",
    "    progress_bar=False if \"NUMPYRO_SPHINXBUILD\" in os.environ else True,\n",
    ")\n",
    "\n",
    "# ns = [50, 100, 200, 300, 500]\n",
    "ns = [100, 500]\n",
    "run_rec = {}\n",
    "for num_training_data in ns:\n",
    "    X = jax.random.uniform(\n",
    "        key=next(rngkeyseq), \n",
    "        shape=(num_training_data, input_dim), \n",
    "        minval=-2, \n",
    "        maxval=2\n",
    "    )\n",
    "    y_true = forward.apply(true_param, next(rngkeyseq), X)\n",
    "    Y = y_true + jax.random.normal(next(rngkeyseq), y_true.shape) * sigma\n",
    "    n = num_training_data\n",
    "    itemps = jnp.linspace(\n",
    "        1 / jnp.log(n) * (1 - 1 / jnp.sqrt(2 * jnp.log(n))),\n",
    "        1 / jnp.log(n) * (1 + 1 / jnp.sqrt(2 * jnp.log(n))), \n",
    "        num_itemps\n",
    "    )\n",
    "    print(f\"itemps={itemps}\")\n",
    "\n",
    "    enlls = []\n",
    "    for i_itemp, itemp in enumerate(itemps): \n",
    "        mcmc.run(\n",
    "            next(rngkeyseq), \n",
    "            X, Y, \n",
    "            shapes, treedef,\n",
    "            itemp=itemp, \n",
    "            sigma=sigma, \n",
    "            prior_mean=prior_mean,\n",
    "            prior_std=prior_std, \n",
    "        )\n",
    "        posterior_samples = mcmc.get_samples()\n",
    "        num_mcmc_samples = num_mcmc_samples = len(posterior_samples[list(posterior_samples.keys())[0]])\n",
    "\n",
    "        param_list = [\n",
    "            [posterior_samples[name][i] for name in sorted(posterior_samples.keys())]\n",
    "            for i in range(num_mcmc_samples)\n",
    "        ]\n",
    "        enll = expected_nll(map(treedef.unflatten, param_list), X, Y, sigma)\n",
    "        enlls.append(enll)\n",
    "        print(f\"Finished {i_itemp} temp={1/itemp:.3f}. Expected NLL={enll:.3f}\")\n",
    "        if len(enlls) > 1:\n",
    "            slope, intercept, r_val, _, _ = scipy.stats.linregress(1 / itemps[:len(enlls)], enlls)\n",
    "            print(f\"est. RLCT={slope:.3f}, energy={intercept / n:.3f}, r2={r_val**2:.3f}\")\n",
    "    \n",
    "    run_rec[num_training_data] = {\n",
    "        \"itemps\": itemps, \"enlls\": enlls, \"slope\": slope, \"intercept\": intercept, \"rval\": r_val\n",
    "    }\n",
    "    print(f\"Finished (n={num_training_data}): RLCT est={slope:.3f}, energy={intercept / n:.3f}\")"
   ]
  },
  {
   "cell_type": "code",
   "execution_count": 4,
   "id": "c699c174",
   "metadata": {},
   "outputs": [
    {
     "data": {
      "image/png": "[encoded data removed]",
      "text/plain": [
       "<Figure size 500x1000 with 2 Axes>"
      ]
     },
     "metadata": {},
     "output_type": "display_data"
    }
   ],
   "source": [
    "nums = sorted(run_rec.keys())\n",
    "lambdas = [run_rec[n][\"slope\"] for n in nums]\n",
    "energies = [run_rec[n][\"intercept\"] / n for n in nums]\n",
    "\n",
    "fig, axes = plt.subplots(2, 1, figsize=(5, 10), sharex=True)\n",
    "ax = axes[0]\n",
    "ax.plot(nums, lambdas, \"kx--\")\n",
    "ax.set_xlabel(\"n\")\n",
    "ax.set_ylabel(\"$\\hat{\\lambda}$\")\n",
    "ax.set_xscale(\"log\")\n",
    "\n",
    "ax = axes[1]\n",
    "ax.plot(nums, energies, \"kx--\")\n",
    "ax.set_xlabel(\"n\")\n",
    "ax.set_ylabel(\"$\\hat{L_n}(w_0)$\");\n"
   ]
  },
  {
   "cell_type": "code",
   "execution_count": null,
   "id": "49b6343b",
   "metadata": {},
   "outputs": [],
   "source": []
  }
 ],
 "metadata": {
  "kernelspec": {
   "display_name": "Python 3 (ipykernel)",
   "language": "python",
   "name": "python3"
  },
  "language_info": {
   "codemirror_mode": {
    "name": "ipython",
    "version": 3
   },
   "file_extension": ".py",
   "mimetype": "text/x-python",
   "name": "python",
   "nbconvert_exporter": "python",
   "pygments_lexer": "ipython3",
   "version": "3.10.9"
  }
 },
 "nbformat": 4,
 "nbformat_minor": 5
}
